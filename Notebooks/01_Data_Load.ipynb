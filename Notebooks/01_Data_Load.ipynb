{
 "cells": [
  {
   "cell_type": "markdown",
   "metadata": {},
   "source": [
    "# 01_Data_Exploration\n",
    "\n",
    "## Cel\n",
    "\n",
    "W tym notebooku:\n",
    "1. **Załadujemy dane**:\n",
    "   - Wczytamy dane treningowe i testowe z plików źródłowych.\n",
    "   - Zweryfikujemy strukturę danych (liczba wierszy i kolumn, typy danych, brakujące wartości).\n",
    "   \n",
    "2. **Skupimy się na 5 wybranych kolumnach**:\n",
    "   - `OverallQual` (Ogólna jakość wykończenia),\n",
    "   - `GrLivArea` (Powierzchnia użytkowa nad poziomem gruntu),\n",
    "   - `Neighborhood` (Okolica, w której znajduje się nieruchomość),\n",
    "   - `YearBuilt` (Rok budowy domu),\n",
    "   - `GarageCars` (Pojemność garażu w liczbie samochodów).\n",
    "\n",
    "3. **Przygotujemy dane do dalszego przetwarzania**:\n",
    "   - Zapiszemy wczytane dane do pliku, który zostanie użyty w następnym notebooku do preprocessingu (`02_Data_Preprocessing.ipynb`).\n",
    "   \n"
   ]
  },
  {
   "cell_type": "markdown",
   "metadata": {},
   "source": [
    "\n",
    "## Kroki\n",
    "1. Importowanie bibliotek i funkcji\n"
   ]
  },
  {
   "cell_type": "code",
   "execution_count": 1,
   "metadata": {},
   "outputs": [],
   "source": [
    "import pandas as pd\n",
    "import sys\n",
    "import os\n",
    "\n",
    "project_path = os.path.abspath(\"..\")\n",
    "if project_path not in sys.path:\n",
    "    sys.path.append(project_path)\n",
    "\n",
    "from src.Data.read_data import load_train_data, load_test_data\n"
   ]
  },
  {
   "cell_type": "markdown",
   "metadata": {},
   "source": [
    "2. Wczytanie danych i selekcja kolumn"
   ]
  },
  {
   "cell_type": "code",
   "execution_count": 2,
   "metadata": {},
   "outputs": [],
   "source": [
    "train_df = load_train_data()\n",
    "test_df = load_test_data()\n",
    "\n",
    "important_columns = [\"OverallQual\", \"GrLivArea\", \"Neighborhood\", \"YearBuilt\", \"GarageCars\"]\n",
    "\n",
    "train_selected = train_df[important_columns + [\"SalePrice\"]]\n",
    "test_selected = test_df[important_columns]\n",
    "\n",
    "\n"
   ]
  },
  {
   "cell_type": "markdown",
   "metadata": {},
   "source": [
    "3. Sprawdzenie brakujących danych\n"
   ]
  },
  {
   "cell_type": "code",
   "execution_count": 3,
   "metadata": {},
   "outputs": [
    {
     "name": "stdout",
     "output_type": "stream",
     "text": [
      "\n",
      "Brakujące dane w wybranych kolumnach (zbiór treningowy):\n",
      "OverallQual     0\n",
      "GrLivArea       0\n",
      "Neighborhood    0\n",
      "YearBuilt       0\n",
      "GarageCars      0\n",
      "SalePrice       0\n",
      "dtype: int64\n",
      "\n",
      "Brakujące dane w wybranych kolumnach (zbiór testowy):\n",
      "OverallQual     0\n",
      "GrLivArea       0\n",
      "Neighborhood    0\n",
      "YearBuilt       0\n",
      "GarageCars      1\n",
      "dtype: int64\n"
     ]
    }
   ],
   "source": [
    "print(\"\\nBrakujące dane w wybranych kolumnach (zbiór treningowy):\")\n",
    "print(train_selected.isnull().sum())\n",
    "\n",
    "print(\"\\nBrakujące dane w wybranych kolumnach (zbiór testowy):\")\n",
    "print(test_selected.isnull().sum())"
   ]
  },
  {
   "cell_type": "markdown",
   "metadata": {},
   "source": [
    "4. Zapisanie wczytanych danych\n"
   ]
  },
  {
   "cell_type": "code",
   "execution_count": 4,
   "metadata": {},
   "outputs": [
    {
     "name": "stdout",
     "output_type": "stream",
     "text": [
      "\n",
      "Wybrane kolumny zostały zapisane w folderze 'Data/processed'.\n"
     ]
    }
   ],
   "source": [
    "output_dir = \"../Data/processed\"\n",
    "os.makedirs(output_dir, exist_ok=True)\n",
    "\n",
    "train_selected.to_csv(os.path.join(output_dir, \"train_selected.csv\"), index=False)\n",
    "test_selected.to_csv(os.path.join(output_dir, \"test_selected.csv\"), index=False)\n",
    "\n",
    "print(\"\\nWybrane kolumny zostały zapisane w folderze 'Data/processed'.\")\n"
   ]
  }
 ],
 "metadata": {
  "kernelspec": {
   "display_name": "Python 3",
   "language": "python",
   "name": "python3"
  },
  "language_info": {
   "codemirror_mode": {
    "name": "ipython",
    "version": 3
   },
   "file_extension": ".py",
   "mimetype": "text/x-python",
   "name": "python",
   "nbconvert_exporter": "python",
   "pygments_lexer": "ipython3",
   "version": "3.12.8"
  }
 },
 "nbformat": 4,
 "nbformat_minor": 2
}
