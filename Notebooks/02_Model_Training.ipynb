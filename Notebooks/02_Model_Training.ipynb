{
 "cells": [
  {
   "cell_type": "markdown",
   "metadata": {},
   "source": [
    "# 02_Model_Training.ipynb\n",
    "\n",
    "## Cel\n",
    "\n",
    "Celem tego notebooka jest:\n",
    "\n",
    "- Wczytanie i przygotowanie przetworzonych danych (train_preprocessed.csv i test_preprocessed.csv).\n",
    "- Podział zbioru danych na zmienne objaśniające (X) i zmienną docelową (y).\n",
    "- Trenowanie trzech modeli regresyjnych w celu przewidywania ceny nieruchomości:\n",
    "    - Regresja Liniowa (Linear Regression),\n",
    "    - Regresja Grzbietowa (Ridge Regression – regularyzacja L2),\n",
    "    - Sieć Neuronowa (Deep Learning – TensorFlow/Keras).\n",
    "- Ocena modeli na zbiorze walidacyjnym przy użyciu metryk:\n",
    "    - R² Score (współczynnik determinacji),\n",
    "    - RMSE (root mean squared error – błąd średniokwadratowy).\n",
    "- Predykcja cen nieruchomości dla zbioru testowego oraz zapis wyników do plików CSV w formacie wymaganym do submission:\n",
    "    - linear_regression_predictions.csv\n",
    "    - ridge_regression_predictions.csv\n",
    "    - neural_network_predictions.csv\n"
   ]
  },
  {
   "cell_type": "markdown",
   "metadata": {},
   "source": [
    "## Kroki"
   ]
  },
  {
   "cell_type": "markdown",
   "metadata": {},
   "source": [
    "**1. Import niezbędnych bibliotek**"
   ]
  },
  {
   "cell_type": "code",
   "execution_count": 1,
   "metadata": {},
   "outputs": [],
   "source": [
    "import numpy as np\n",
    "import pandas as pd\n",
    "from sklearn.model_selection import train_test_split\n",
    "from sklearn.linear_model import Ridge\n",
    "from sklearn.ensemble import GradientBoostingRegressor\n",
    "from xgboost import XGBRegressor\n",
    "from sklearn.metrics import mean_squared_error, r2_score\n",
    "from sklearn.preprocessing import StandardScaler\n",
    "from tensorflow.keras.models import Sequential\n",
    "from tensorflow.keras.layers import Dense, Dropout, BatchNormalization\n",
    "from tensorflow.keras.optimizers import Adam\n",
    "from tensorflow.keras.callbacks import EarlyStopping, ReduceLROnPlateau\n",
    "from tensorflow.keras import Input\n",
    "from pathlib import Path\n",
    "import matplotlib.pyplot as plt"
   ]
  },
  {
   "cell_type": "markdown",
   "metadata": {},
   "source": [
    "**2. Wczytanie, przygotowanie danych**\n",
    "- Podział na cechy (X) i zmienną docelową (y)\n",
    "- Podział na dane treningowe i walidacyjne"
   ]
  },
  {
   "cell_type": "code",
   "execution_count": 2,
   "metadata": {},
   "outputs": [
    {
     "name": "stdout",
     "output_type": "stream",
     "text": [
      "Dane zostały wczytane i podzielone na zbiory treningowe i walidacyjne.\n"
     ]
    }
   ],
   "source": [
    "train_df = pd.read_csv(\"../Data/train_preprocessed.csv\")\n",
    "test_df = pd.read_csv(\"../Data/test_preprocessed.csv\")\n",
    "\n",
    "X_train = train_df.drop(columns=[\"Id\", \"SalePrice\"])\n",
    "y_train = train_df[\"SalePrice\"]\n",
    "\n",
    "X_train_split, X_val, y_train_split, y_val = train_test_split(\n",
    "    X_train, y_train, test_size=0.2, random_state=42\n",
    ")\n",
    "\n",
    "print(\"Dane zostały wczytane i podzielone na zbiory treningowe i walidacyjne.\")\n"
   ]
  },
  {
   "cell_type": "markdown",
   "metadata": {},
   "source": [
    "**3. Definicje funkcji pomocniczych**"
   ]
  },
  {
   "cell_type": "code",
   "execution_count": 3,
   "metadata": {},
   "outputs": [],
   "source": [
    "def rmsle(y_true, y_pred):\n",
    "    y_true = np.maximum(y_true, 1e-9) \n",
    "    y_pred = np.maximum(y_pred, 1e-9)\n",
    "    log_true = np.log1p(y_true)\n",
    "    log_pred = np.log1p(y_pred)\n",
    "    return np.sqrt(np.mean((log_true - log_pred) ** 2))\n",
    "\n",
    "evaluation_results = []\n",
    "\n",
    "def evaluate_model(model_name, y_true, y_pred, is_log_transformed=False):\n",
    "    if is_log_transformed:\n",
    "        y_true = np.expm1(y_true) \n",
    "        y_pred = np.expm1(y_pred)  \n",
    "    r2 = r2_score(y_true, y_pred)\n",
    "    rmse = np.sqrt(mean_squared_error(y_true, y_pred))\n",
    "    rmsle_value = rmsle(y_true, y_pred)\n",
    "    \n",
    "    print(f\"\\nWyniki modelu {model_name}:\")\n",
    "    print(f\"  R²    : {r2:.4f}\")\n",
    "    print(f\"  RMSE  : {rmse:.4f}\")\n",
    "    print(f\"  RMSLE : {rmsle_value:.4f}\")\n",
    "    \n",
    "    evaluation_results.append({\n",
    "        \"Model\": model_name,\n",
    "        \"R²\": r2,\n",
    "        \"RMSE\": rmse,\n",
    "        \"RMSLE\": rmsle_value\n",
    "    })\n",
    "\n",
    "def save_predictions(model, X_test, test_ids, filename, is_log_transformed=False):\n",
    "    predictions = model.predict(X_test)\n",
    "    if is_log_transformed:\n",
    "        predictions = np.expm1(predictions.flatten())\n",
    "    predictions = predictions.flatten() if hasattr(predictions, 'flatten') else predictions\n",
    "    submission_df = pd.DataFrame({\n",
    "        \"Id\": test_ids,\n",
    "        \"SalePrice\": predictions\n",
    "    })\n",
    "    Path(filename).parent.mkdir(parents=True, exist_ok=True)\n",
    "    submission_df.to_csv(filename, index=False)\n",
    "    print(f\"Przewidywania zapisano w pliku: {filename}\")\n"
   ]
  },
  {
   "cell_type": "markdown",
   "metadata": {},
   "source": [
    "**4. Ridge Regression**"
   ]
  },
  {
   "cell_type": "code",
   "execution_count": 4,
   "metadata": {},
   "outputs": [
    {
     "name": "stdout",
     "output_type": "stream",
     "text": [
      "\n",
      "Trening modelu Ridge Regression...\n",
      "\n",
      "Wyniki modelu Ridge Regression:\n",
      "  R²    : 0.9187\n",
      "  RMSE  : 24977.5637\n",
      "  RMSLE : 0.1428\n"
     ]
    }
   ],
   "source": [
    "print(\"\\nTrening modelu Ridge Regression...\")\n",
    "ridge_reg = Ridge(alpha=1.0)\n",
    "ridge_reg.fit(X_train_split, np.log1p(y_train_split))\n",
    "y_val_pred_ridge = ridge_reg.predict(X_val)\n",
    "evaluate_model(\"Ridge Regression\", np.log1p(y_val), y_val_pred_ridge, is_log_transformed=True)\n"
   ]
  },
  {
   "cell_type": "markdown",
   "metadata": {},
   "source": [
    "**5. Gradient Boosting Regression**"
   ]
  },
  {
   "cell_type": "code",
   "execution_count": 5,
   "metadata": {},
   "outputs": [
    {
     "name": "stdout",
     "output_type": "stream",
     "text": [
      "\n",
      "Trening modelu Gradient Boosting Regression...\n",
      "\n",
      "Wyniki modelu Gradient Boosting Regression:\n",
      "  R²    : 0.8700\n",
      "  RMSE  : 31583.4635\n",
      "  RMSLE : 0.1387\n"
     ]
    }
   ],
   "source": [
    "print(\"\\nTrening modelu Gradient Boosting Regression...\")\n",
    "gb_model = GradientBoostingRegressor(n_estimators=100, learning_rate=0.1, random_state=42)\n",
    "gb_model.fit(X_train_split, np.log1p(y_train_split))\n",
    "y_val_pred_gb = gb_model.predict(X_val)\n",
    "evaluate_model(\"Gradient Boosting Regression\", np.log1p(y_val), y_val_pred_gb, is_log_transformed=True)\n"
   ]
  },
  {
   "cell_type": "markdown",
   "metadata": {},
   "source": [
    "**6. XGBoost Regression**"
   ]
  },
  {
   "cell_type": "code",
   "execution_count": 6,
   "metadata": {},
   "outputs": [
    {
     "name": "stdout",
     "output_type": "stream",
     "text": [
      "\n",
      "Trening modelu XGBoost Regression...\n",
      "\n",
      "Wyniki modelu XGBoost Regression:\n",
      "  R²    : 0.8999\n",
      "  RMSE  : 27702.5816\n",
      "  RMSLE : 0.1469\n"
     ]
    }
   ],
   "source": [
    "print(\"\\nTrening modelu XGBoost Regression...\")\n",
    "xgb_model = XGBRegressor(n_estimators=100, learning_rate=0.1, random_state=42, verbosity=0)\n",
    "xgb_model.fit(X_train_split, np.log1p(y_train_split))\n",
    "y_val_pred_xgb = xgb_model.predict(X_val)\n",
    "evaluate_model(\"XGBoost Regression\", np.log1p(y_val), y_val_pred_xgb, is_log_transformed=True)\n"
   ]
  },
  {
   "cell_type": "markdown",
   "metadata": {},
   "source": [
    "**7. Sieć neuronowa**"
   ]
  },
  {
   "cell_type": "code",
   "execution_count": 7,
   "metadata": {},
   "outputs": [
    {
     "name": "stdout",
     "output_type": "stream",
     "text": [
      "\n",
      "Trening sieci neuronowej...\n"
     ]
    },
    {
     "data": {
      "image/png": "[encoded data removed]",
      "text/plain": [
       "<Figure size 1000x500 with 1 Axes>"
      ]
     },
     "metadata": {},
     "output_type": "display_data"
    },
    {
     "name": "stdout",
     "output_type": "stream",
     "text": [
      "\u001b[1m10/10\u001b[0m \u001b[32m━━━━━━━━━━━━━━━━━━━━\u001b[0m\u001b[37m\u001b[0m \u001b[1m0s\u001b[0m 7ms/step\n",
      "\n",
      "Wyniki modelu Neural Network:\n",
      "  R²    : 0.8278\n",
      "  RMSE  : 36337.9833\n",
      "  RMSLE : 0.1707\n"
     ]
    }
   ],
   "source": [
    "print(\"\\nTrening sieci neuronowej...\")\n",
    "\n",
    "scaler = StandardScaler()\n",
    "X_train_scaled = scaler.fit_transform(X_train_split)\n",
    "X_val_scaled = scaler.transform(X_val)\n",
    "\n",
    "model = Sequential([\n",
    "    Input(shape=(X_train_scaled.shape[1],)),  \n",
    "    Dense(256, activation=\"relu\"),\n",
    "    BatchNormalization(),\n",
    "    Dropout(0.3),\n",
    "    Dense(128, activation=\"relu\"),\n",
    "    BatchNormalization(),\n",
    "    Dropout(0.3),\n",
    "    Dense(64, activation=\"relu\"),\n",
    "    BatchNormalization(),\n",
    "    Dense(1)  \n",
    "])\n",
    "\n",
    "model.compile(optimizer=Adam(learning_rate=0.001), loss=\"mse\", metrics=[\"mae\"])\n",
    "\n",
    "early_stop = EarlyStopping(monitor=\"val_loss\", patience=15, restore_best_weights=True, verbose=0)\n",
    "reduce_lr = ReduceLROnPlateau(monitor=\"val_loss\", factor=0.5, patience=5, verbose=0)\n",
    "\n",
    "history = model.fit(\n",
    "    X_train_scaled, np.log1p(y_train_split),\n",
    "    validation_data=(X_val_scaled, np.log1p(y_val)),\n",
    "    epochs=200,\n",
    "    batch_size=32,\n",
    "    callbacks=[early_stop, reduce_lr],\n",
    "    verbose=0\n",
    ")\n",
    "\n",
    "plt.figure(figsize=(10, 5))\n",
    "plt.plot(history.history[\"loss\"], label=\"Strata treningowa\")\n",
    "plt.plot(history.history[\"val_loss\"], label=\"Strata walidacyjna\")\n",
    "plt.xlabel(\"Epoki\")\n",
    "plt.ylabel(\"Strata (MSE)\")\n",
    "plt.legend()\n",
    "plt.title(\"Strata podczas trenowania i walidacji\")\n",
    "plt.show()\n",
    "\n",
    "y_val_pred_nn = model.predict(X_val_scaled).flatten()\n",
    "evaluate_model(\"Neural Network\", np.log1p(y_val), y_val_pred_nn, is_log_transformed=True)\n"
   ]
  },
  {
   "cell_type": "markdown",
   "metadata": {},
   "source": [
    "**8. Podsumowanie wyników ewaluacji**"
   ]
  },
  {
   "cell_type": "code",
   "execution_count": 8,
   "metadata": {},
   "outputs": [
    {
     "name": "stdout",
     "output_type": "stream",
     "text": [
      "\n",
      "Podsumowanie wyników ewaluacji:\n",
      "                          Model        R²          RMSE     RMSLE\n",
      "0              Ridge Regression  0.918663  24977.563701  0.142793\n",
      "1  Gradient Boosting Regression  0.869951  31583.463459  0.138678\n",
      "2            XGBoost Regression  0.899948  27702.581561  0.146920\n",
      "3                Neural Network  0.827850  36337.983343  0.170668\n"
     ]
    }
   ],
   "source": [
    "print(\"\\nPodsumowanie wyników ewaluacji:\")\n",
    "results_df = pd.DataFrame(evaluation_results)\n",
    "print(results_df)\n"
   ]
  },
  {
   "cell_type": "markdown",
   "metadata": {},
   "source": [
    "**8. Zapisanie przewidywań dla zbioru testowego**"
   ]
  },
  {
   "cell_type": "code",
   "execution_count": 9,
   "metadata": {},
   "outputs": [
    {
     "name": "stdout",
     "output_type": "stream",
     "text": [
      "\n",
      "Przygotowanie danych testowych...\n",
      "\n",
      "Zapisywanie przewidywań dla Ridge Regression...\n",
      "Przewidywania zapisano w pliku: ../Data/ridge_regression_predictions.csv\n",
      "\n",
      "Zapisywanie przewidywań dla Gradient Boosting Regression...\n",
      "Przewidywania zapisano w pliku: ../Data/gradient_boosting_regression_predictions.csv\n",
      "\n",
      "Zapisywanie przewidywań dla XGBoost Regression...\n",
      "Przewidywania zapisano w pliku: ../Data/xgboost_regression_predictions.csv\n",
      "\n",
      "Zapisywanie przewidywań dla Neural Network...\n",
      "\u001b[1m46/46\u001b[0m \u001b[32m━━━━━━━━━━━━━━━━━━━━\u001b[0m\u001b[37m\u001b[0m \u001b[1m0s\u001b[0m 1ms/step \n",
      "Przewidywania zapisano w pliku: ../Data/neural_network_predictions.csv\n"
     ]
    }
   ],
   "source": [
    "print(\"\\nPrzygotowanie danych testowych...\")\n",
    "X_test = test_df.drop(columns=[\"Id\"], errors=\"ignore\")\n",
    "X_test_scaled = scaler.transform(X_test)\n",
    "test_ids = test_df[\"Id\"]\n",
    "\n",
    "models = {\n",
    "    \"Ridge Regression\": (ridge_reg, True),\n",
    "    \"Gradient Boosting Regression\": (gb_model, True),\n",
    "    \"XGBoost Regression\": (xgb_model, True),\n",
    "    \"Neural Network\": (model, True)\n",
    "}\n",
    "\n",
    "for model_name, (model_instance, is_log_transformed) in models.items():\n",
    "    print(f\"\\nZapisywanie przewidywań dla {model_name}...\")\n",
    "    save_predictions(\n",
    "        model_instance,\n",
    "        X_test_scaled if model_name == \"Neural Network\" else X_test,\n",
    "        test_ids,\n",
    "        f\"../Data/{model_name.replace(' ', '_').lower()}_predictions.csv\",\n",
    "        is_log_transformed=is_log_transformed\n",
    "    )\n"
   ]
  }
 ],
 "metadata": {
  "kernelspec": {
   "display_name": "Python 3",
   "language": "python",
   "name": "python3"
  },
  "language_info": {
   "codemirror_mode": {
    "name": "ipython",
    "version": 3
   },
   "file_extension": ".py",
   "mimetype": "text/x-python",
   "name": "python",
   "nbconvert_exporter": "python",
   "pygments_lexer": "ipython3",
   "version": "3.11.9"
  }
 },
 "nbformat": 4,
 "nbformat_minor": 2
}
