{
 "cells": [
  {
   "cell_type": "markdown",
   "metadata": {},
   "source": [
    "# 02_Model_Training.ipynb\n",
    "\n",
    "## Cel\n",
    "\n",
    "Celem tego notebooka jest:\n",
    "\n",
    "- Wczytanie i analiza surowych danych.\n",
    "\n",
    "- Identyfikacja i przetwarzanie brakujących danych w sposób spójny dla zbioru treningowego i testowego.\n",
    "\n",
    "- Przygotowanie danych do dalszego modelowania poprzez:\n",
    "\n",
    "   - Imputację braków,\n",
    "\n",
    "    - Standaryzację cech numerycznych,\n",
    "\n",
    "    - Kodowanie zmiennych kategorycznych,\n",
    "\n",
    "- Zapisanie przetworzonych danych do plików CSV, gotowych do użycia w modelach regresji liniowej (z regularyzacją i bez) oraz w sieciach neuronowych.\n"
   ]
  },
  {
   "cell_type": "markdown",
   "metadata": {},
   "source": [
    "## Kroki"
   ]
  },
  {
   "cell_type": "markdown",
   "metadata": {},
   "source": [
    "**1. Wczytanie i przygotowanie danych**"
   ]
  },
  {
   "cell_type": "code",
   "execution_count": 1,
   "metadata": {},
   "outputs": [],
   "source": [
    "import pandas as pd\n",
    "from sklearn.model_selection import train_test_split\n",
    "\n",
    "train_df = pd.read_csv(\"../Data/train_preprocessed.csv\")\n",
    "test_df = pd.read_csv(\"../Data/test_preprocessed.csv\")\n",
    "\n",
    "X_train = train_df.drop(columns=[\"Id\", \"SalePrice\"])  \n",
    "y_train = train_df[\"SalePrice\"]\n",
    "\n",
    "X_train_split, X_val, y_train_split, y_val = train_test_split(X_train, y_train, test_size=0.2, random_state=42)\n"
   ]
  },
  {
   "cell_type": "markdown",
   "metadata": {},
   "source": [
    "**2. Trenowanie zwykłej regresji liniowej**"
   ]
  },
  {
   "cell_type": "code",
   "execution_count": 2,
   "metadata": {},
   "outputs": [
    {
     "name": "stdout",
     "output_type": "stream",
     "text": [
      "Linear Regression R²: -1.2369387858383782e+17\n",
      "Linear Regression RMSE: 30802149252450.445\n"
     ]
    }
   ],
   "source": [
    "from sklearn.linear_model import LinearRegression\n",
    "from sklearn.metrics import mean_squared_error, r2_score\n",
    "import numpy as np\n",
    "\n",
    "lin_reg = LinearRegression()\n",
    "lin_reg.fit(X_train_split, y_train_split)\n",
    "\n",
    "y_val_pred = lin_reg.predict(X_val)\n",
    "\n",
    "r2 = r2_score(y_val, y_val_pred)\n",
    "rmse = np.sqrt(mean_squared_error(y_val, y_val_pred))\n",
    "\n",
    "print(f\"Linear Regression R²: {r2}\")\n",
    "print(f\"Linear Regression RMSE: {rmse}\")\n"
   ]
  },
  {
   "cell_type": "markdown",
   "metadata": {},
   "source": [
    " **Problem: Bardzo złe wyniki**\n",
    "\n",
    "   - Współczynnik determinacji (R²) wynosił -1.09e+21 (katastrofalny wynik).\n",
    "   - RMSE (2.89e+15) było ogromne – model przewidywał bardzo źle.\n",
    "   - Przyczyna: Model miał problem z współliniowością cech i niestabilnymi współczynnikami."
   ]
  },
  {
   "cell_type": "markdown",
   "metadata": {},
   "source": [
    "**4. Trenowanie modelu Ridge Regression**"
   ]
  },
  {
   "cell_type": "code",
   "execution_count": 3,
   "metadata": {},
   "outputs": [
    {
     "name": "stdout",
     "output_type": "stream",
     "text": [
      "Ridge Regression R²: 0.8672820672510482\n",
      "Ridge Regression RMSE: 31905.953013943705\n"
     ]
    }
   ],
   "source": [
    "from sklearn.linear_model import Ridge\n",
    "\n",
    "ridge_reg = Ridge(alpha=1)\n",
    "ridge_reg.fit(X_train_split, y_train_split)\n",
    "\n",
    "y_val_pred_ridge = ridge_reg.predict(X_val)\n",
    "\n",
    "r2_ridge = r2_score(y_val, y_val_pred_ridge)\n",
    "rmse_ridge = np.sqrt(mean_squared_error(y_val, y_val_pred_ridge))\n",
    "\n",
    "print(f\"Ridge Regression R²: {r2_ridge}\")\n",
    "print(f\"Ridge Regression RMSE: {rmse_ridge}\")\n"
   ]
  },
  {
   "cell_type": "markdown",
   "metadata": {},
   "source": [
    "**5. Predykcja na zbiorze testowym**"
   ]
  },
  {
   "cell_type": "code",
   "execution_count": 4,
   "metadata": {},
   "outputs": [
    {
     "name": "stdout",
     "output_type": "stream",
     "text": [
      "Plik submission dla Ridge Regression został zapisany jako: ../Data/ridge_regression_predictions.csv\n",
      "Plik submission dla Linear Regression został zapisany jako: ../Data/linear_regression_predictions.csv\n"
     ]
    }
   ],
   "source": [
    "X_test = test_df.drop(columns=[\"Id\"], errors=\"ignore\")\n",
    "\n",
    "ridge_predictions = ridge_reg.predict(X_test)\n",
    "\n",
    "ridge_submission_df = pd.DataFrame({\n",
    "    \"Id\": test_df[\"Id\"],\n",
    "    \"SalePrice\": ridge_predictions\n",
    "})\n",
    "\n",
    "ridge_submission_filename = \"../Data/ridge_regression_predictions.csv\"\n",
    "ridge_submission_df.to_csv(ridge_submission_filename, index=False)\n",
    "print(f\"Plik submission dla Ridge Regression został zapisany jako: {ridge_submission_filename}\")\n",
    "\n",
    "linear_predictions = lin_reg.predict(X_test)\n",
    "\n",
    "linear_submission_df = pd.DataFrame({\n",
    "    \"Id\": test_df[\"Id\"],\n",
    "    \"SalePrice\": linear_predictions\n",
    "})\n",
    "\n",
    "linear_submission_filename = \"../Data/linear_regression_predictions.csv\"\n",
    "linear_submission_df.to_csv(linear_submission_filename, index=False)\n",
    "print(f\"Plik submission dla Linear Regression został zapisany jako: {linear_submission_filename}\")\n",
    "\n"
   ]
  },
  {
   "cell_type": "markdown",
   "metadata": {},
   "source": [
    "**6. Wyniki z serwisu Kaggle**\n",
    "\n",
    "- linear_regression_predictions.csv - 1.85690\n",
    "- ridge_regression_predictions.csv - 0.17252"
   ]
  }
 ],
 "metadata": {
  "kernelspec": {
   "display_name": "Python 3",
   "language": "python",
   "name": "python3"
  },
  "language_info": {
   "codemirror_mode": {
    "name": "ipython",
    "version": 3
   },
   "file_extension": ".py",
   "mimetype": "text/x-python",
   "name": "python",
   "nbconvert_exporter": "python",
   "pygments_lexer": "ipython3",
   "version": "3.11.9"
  }
 },
 "nbformat": 4,
 "nbformat_minor": 2
}
