{
 "cells": [
  {
   "cell_type": "markdown",
   "metadata": {},
   "source": [
    "# 01b_Data_Load_and_Preprocess\n",
    "\n",
    "## Cel\n",
    "\n",
    "Celem tego notebooka jest:\n",
    "\n",
    "- Wczytanie i wstępna analiza surowych danych, identyfikacja braków i potencjalnych problemów.\n",
    "\n",
    "- Obróbka brakujących wartości w zbiorach treningowym i testowym.\n",
    "\n",
    "- Przygotowanie danych do modelowania poprzez:\n",
    "    - Imputację brakujących wartości,\n",
    "    - Standaryzację cech numerycznych,\n",
    "    - Kodowanie zmiennych kategorycznych (Ordinal Encoding i One-Hot Encoding).\n",
    "\n",
    "- Zapis przetworzonych danych w formacie CSV, gotowych do wykorzystania w modelach:\n",
    "    - Regresji liniowej\n",
    "    - Sieciach neuronowych."
   ]
  },
  {
   "cell_type": "markdown",
   "metadata": {},
   "source": [
    "\n",
    "## Kroki\n",
    "**1. Wczytanie danych**"
   ]
  },
  {
   "cell_type": "code",
   "execution_count": 26,
   "metadata": {},
   "outputs": [],
   "source": [
    "import pandas as pd\n",
    "import matplotlib.pyplot as plt\n",
    "from sklearn.preprocessing import StandardScaler, OneHotEncoder, OrdinalEncoder\n",
    "\n",
    "train_file_path = \"../Data/Raw/train.csv\"  \n",
    "test_file_path = \"../Data/Raw/test.csv\"\n",
    "\n",
    "train_df = pd.read_csv(train_file_path)\n",
    "test_df = pd.read_csv(test_file_path)"
   ]
  },
  {
   "cell_type": "code",
   "execution_count": 27,
   "metadata": {},
   "outputs": [],
   "source": [
    "selected_columns = [\n",
    "    \"OverallQual\", \"GrLivArea\", \"TotalBsmtSF\", \"GarageCars\", \"GarageArea\",\n",
    "    \"1stFlrSF\", \"FullBath\", \"TotRmsAbvGrd\", \"YearBuilt\", \"YearRemodAdd\",\n",
    "    \"Neighborhood\", \"MSZoning\", \"BldgType\", \"HouseStyle\", \"SaleCondition\"\n",
    "]\n",
    "\n",
    "train_df = train_df[[\"Id\"] + selected_columns + [\"SalePrice\"]]\n",
    "test_df = test_df[[\"Id\"] + selected_columns] "
   ]
  },
  {
   "cell_type": "markdown",
   "metadata": {},
   "source": [
    "**2. Analiza braków danych**"
   ]
  },
  {
   "cell_type": "code",
   "execution_count": 28,
   "metadata": {},
   "outputs": [
    {
     "name": "stdout",
     "output_type": "stream",
     "text": [
      "Brakujące dane w zbiorze treningowym:\n",
      "Series([], dtype: int64)\n",
      "\n",
      "Brakujące dane w zbiorze testowym:\n",
      "TotalBsmtSF    1\n",
      "GarageCars     1\n",
      "GarageArea     1\n",
      "MSZoning       4\n",
      "dtype: int64\n"
     ]
    }
   ],
   "source": [
    "missing_train = train_df.isnull().sum()\n",
    "missing_test = test_df.isnull().sum()\n",
    "\n",
    "missing_train = missing_train[missing_train > 0]\n",
    "missing_test = missing_test[missing_test > 0]\n",
    "\n",
    "print(\"Brakujące dane w zbiorze treningowym:\")\n",
    "print(missing_train)\n",
    "\n",
    "print(\"\\nBrakujące dane w zbiorze testowym:\")\n",
    "print(missing_test)\n"
   ]
  },
  {
   "cell_type": "markdown",
   "metadata": {},
   "source": [
    "**3. Imputacja brakujących danych**"
   ]
  },
  {
   "cell_type": "code",
   "execution_count": 29,
   "metadata": {},
   "outputs": [
    {
     "name": "stdout",
     "output_type": "stream",
     "text": [
      "\n",
      "Brakujące dane w zbiorze treningowym po imputacji:\n",
      "0\n",
      "\n",
      "Brakujące dane w zbiorze testowym po imputacji:\n",
      "0\n"
     ]
    }
   ],
   "source": [
    "impute_values = {\n",
    "    \"OverallQual\": train_df[\"OverallQual\"].median(),\n",
    "    \"GrLivArea\": train_df[\"GrLivArea\"].median(),\n",
    "    \"TotalBsmtSF\": train_df[\"TotalBsmtSF\"].median(),\n",
    "    \"GarageCars\": train_df[\"GarageCars\"].mode()[0],\n",
    "    \"GarageArea\": train_df[\"GarageArea\"].median(),\n",
    "    \"1stFlrSF\": train_df[\"1stFlrSF\"].median(),\n",
    "    \"FullBath\": train_df[\"FullBath\"].mode()[0],\n",
    "    \"TotRmsAbvGrd\": train_df[\"TotRmsAbvGrd\"].mode()[0],\n",
    "    \"YearBuilt\": train_df[\"YearBuilt\"].median(),\n",
    "    \"YearRemodAdd\": train_df[\"YearRemodAdd\"].median(),\n",
    "    \"Neighborhood\": train_df[\"Neighborhood\"].mode()[0],\n",
    "    \"MSZoning\": train_df[\"MSZoning\"].mode()[0],\n",
    "    \"BldgType\": train_df[\"BldgType\"].mode()[0],\n",
    "    \"HouseStyle\": train_df[\"HouseStyle\"].mode()[0],\n",
    "    \"SaleCondition\": train_df[\"SaleCondition\"].mode()[0]\n",
    "}\n",
    "\n",
    "train_df = train_df.fillna(impute_values)\n",
    "test_df = test_df.fillna(impute_values)\n",
    "\n",
    "print(\"\\nBrakujące dane w zbiorze treningowym po imputacji:\")\n",
    "print(train_df.isnull().sum().sum())  \n",
    "print(\"\\nBrakujące dane w zbiorze testowym po imputacji:\")\n",
    "print(test_df.isnull().sum().sum()) \n"
   ]
  },
  {
   "cell_type": "markdown",
   "metadata": {},
   "source": [
    "**4. Rozdzielenie kolumn na numeryczne i kategoryczne**\n"
   ]
  },
  {
   "cell_type": "code",
   "execution_count": 30,
   "metadata": {},
   "outputs": [],
   "source": [
    "numerical_features = [\n",
    "    \"OverallQual\", \"GrLivArea\", \"TotalBsmtSF\", \"GarageCars\", \"GarageArea\",\n",
    "    \"1stFlrSF\", \"FullBath\", \"TotRmsAbvGrd\", \"YearBuilt\", \"YearRemodAdd\"\n",
    "]\n",
    "\n",
    "categorical_features = [\n",
    "    \"Neighborhood\", \"MSZoning\", \"BldgType\", \"HouseStyle\", \"SaleCondition\"\n",
    "]\n",
    "\n",
    "ordinal_cols = [\"BldgType\", \"HouseStyle\", \"SaleCondition\"]\n",
    "onehot_cols = [\"Neighborhood\", \"MSZoning\"]\n",
    "\n",
    "ordinal_encoder = OrdinalEncoder()\n",
    "train_df[ordinal_cols] = ordinal_encoder.fit_transform(train_df[ordinal_cols])\n",
    "test_df[ordinal_cols] = ordinal_encoder.transform(test_df[ordinal_cols])  \n",
    "\n",
    "onehot_encoder = OneHotEncoder(sparse_output=False, drop=\"first\")  \n",
    "train_onehot_encoded = onehot_encoder.fit_transform(train_df[onehot_cols])\n",
    "test_onehot_encoded = onehot_encoder.transform(test_df[onehot_cols])  \n",
    "\n",
    "train_onehot_df = pd.DataFrame(train_onehot_encoded, columns=onehot_encoder.get_feature_names_out(onehot_cols), index=train_df.index)\n",
    "test_onehot_df = pd.DataFrame(test_onehot_encoded, columns=onehot_encoder.get_feature_names_out(onehot_cols), index=test_df.index)\n",
    "\n",
    "train_df = train_df.drop(columns=onehot_cols).join(train_onehot_df)\n",
    "test_df = test_df.drop(columns=onehot_cols).join(test_onehot_df)"
   ]
  },
  {
   "cell_type": "markdown",
   "metadata": {},
   "source": [
    "**7. Skalowanie cech numerycznych do standardowego zakresu**"
   ]
  },
  {
   "cell_type": "code",
   "execution_count": 31,
   "metadata": {},
   "outputs": [],
   "source": [
    "scaler = StandardScaler()\n",
    "numerical_features_to_scale = [col for col in numerical_features if col != \"Id\"]\n",
    "\n",
    "train_df[numerical_features_to_scale] = scaler.fit_transform(train_df[numerical_features_to_scale])\n",
    "test_df[numerical_features_to_scale] = scaler.transform(test_df[numerical_features_to_scale])"
   ]
  },
  {
   "cell_type": "markdown",
   "metadata": {},
   "source": [
    "**8. Zapisanie przetworzonych danych do plików CSV**\n"
   ]
  },
  {
   "cell_type": "code",
   "execution_count": 32,
   "metadata": {},
   "outputs": [
    {
     "name": "stdout",
     "output_type": "stream",
     "text": [
      "Przygotowane dane treningowe zapisano jako 'b_train_preprocessed.csv'.\n",
      "Przygotowane dane testowe zapisano jako 'b_test_preprocessed.csv'.\n"
     ]
    }
   ],
   "source": [
    "train_df.to_csv('../Data/Preprocessed/b_train_preprocessed.csv', index=False)\n",
    "test_df.to_csv('../Data/Preprocessed/b_test_preprocessed.csv', index=False)\n",
    "\n",
    "print(\"Przygotowane dane treningowe zapisano jako 'b_train_preprocessed.csv'.\")\n",
    "print(\"Przygotowane dane testowe zapisano jako 'b_test_preprocessed.csv'.\")"
   ]
  }
 ],
 "metadata": {
  "kernelspec": {
   "display_name": "Python 3",
   "language": "python",
   "name": "python3"
  },
  "language_info": {
   "codemirror_mode": {
    "name": "ipython",
    "version": 3
   },
   "file_extension": ".py",
   "mimetype": "text/x-python",
   "name": "python",
   "nbconvert_exporter": "python",
   "pygments_lexer": "ipython3",
   "version": "3.11.9"
  }
 },
 "nbformat": 4,
 "nbformat_minor": 2
}
